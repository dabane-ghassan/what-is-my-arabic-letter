{
 "cells": [
  {
   "cell_type": "code",
   "execution_count": 217,
   "metadata": {},
   "outputs": [],
   "source": [
    "import numpy as np\n",
    "import matplotlib.pyplot as plt\n",
    "import pandas as pd\n",
    "from scipy.ndimage import rotate\n",
    "import torch\n",
    "import torch.nn as nn\n",
    "import torch.nn.functional as F\n",
    "import torch.optim as optim\n",
    "import torchvision\n",
    "from torchvision import datasets, transforms\n",
    "from torch.utils.data import TensorDataset, DataLoader"
   ]
  },
  {
   "cell_type": "code",
   "execution_count": 235,
   "metadata": {},
   "outputs": [],
   "source": [
    "def view_data(data: torch.Tensor, label: torch.Tensor, n: int) -> plt.Figure:\n",
    "    \n",
    "    arab_labs = ['أ', 'ب', 'ت', 'ث', 'ج', 'ح', 'خ', 'د', 'ذ', 'ر', 'ز', 'س', 'ش', 'ص', 'ض', 'ط' , 'ظ', 'ع', 'غ', 'ف', 'ق', 'ك', 'ل', 'م', 'ن', 'ه', 'و', 'ى']\n",
    "\n",
    "    fig, axs = plt.subplots(1, n, figsize=(21, 5))\n",
    "    for i_ax, ax in enumerate(axs):\n",
    "        ax.imshow(data[i_ax, :, :, :], cmap=plt.gray())\n",
    "        ax.set_title(\"Label = %s\" % (arab_labs[int(label[i_ax].item())]))\n",
    "        ax.set_xticks([])\n",
    "        ax.set_yticks([])\n",
    "    return fig\n",
    "\n",
    "\n",
    "def view_data_rand(loader: torch.utils.data.DataLoader, n: int = 10) -> plt.Figure:\n",
    "\n",
    "    rand_data, rand_label = next(iter(loader))\n",
    "\n",
    "    return view_data(rand_data, rand_label, n)"
   ]
  },
  {
   "cell_type": "code",
   "execution_count": 231,
   "metadata": {},
   "outputs": [],
   "source": [
    "trainx = rotate(np.flip(\n",
    "    pd.read_csv(\"../dataset/csvTrainImages 13440x1024.csv\",\n",
    "                header=None).values.astype('float32').reshape([-1, 32, 32, 1]),\n",
    "    1),\n",
    "                -90,\n",
    "                axes=(1, 2))\n",
    "trainy = pd.read_csv(\"../dataset/csvTrainLabel 13440x1.csv\",\n",
    "                     header=None).values.astype('int32') - 1\n",
    "\n",
    "testx = rotate(np.flip(\n",
    "    pd.read_csv(\"../dataset/csvTestImages 3360x1024.csv\",\n",
    "                header=None).values.astype('float32').reshape([-1, 32, 32, 1]),\n",
    "    1),\n",
    "               -90,\n",
    "               axes=(1, 2))\n",
    "testy = pd.read_csv(\"../dataset/csvTestLabel 3360x1.csv\",\n",
    "                    header=None).values.astype('int32') - 1"
   ]
  },
  {
   "cell_type": "code",
   "execution_count": 228,
   "metadata": {},
   "outputs": [],
   "source": [
    "data_train = TensorDataset(torch.Tensor(trainx), torch.Tensor(trainy))\n",
    "\n",
    "train_loader = DataLoader(data_train, batch_size=100, shuffle=True)"
   ]
  },
  {
   "cell_type": "code",
   "execution_count": 236,
   "metadata": {},
   "outputs": [
    {
     "data": {
      "image/png": "[encoded data removed]",
      "text/plain": [
       "<Figure size 1512x360 with 5 Axes>"
      ]
     },
     "metadata": {},
     "output_type": "display_data"
    }
   ],
   "source": [
    "plts = view_data_rand(train_loader, n=5)"
   ]
  }
 ],
 "metadata": {
  "kernelspec": {
   "display_name": "Python 3",
   "language": "python",
   "name": "python3"
  },
  "language_info": {
   "codemirror_mode": {
    "name": "ipython",
    "version": 3
   },
   "file_extension": ".py",
   "mimetype": "text/x-python",
   "name": "python",
   "nbconvert_exporter": "python",
   "pygments_lexer": "ipython3",
   "version": "3.8.12"
  }
 },
 "nbformat": 4,
 "nbformat_minor": 4
}
